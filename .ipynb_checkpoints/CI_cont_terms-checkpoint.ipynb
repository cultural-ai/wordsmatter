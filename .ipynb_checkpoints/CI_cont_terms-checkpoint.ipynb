{
 "cells": [
  {
   "cell_type": "markdown",
   "metadata": {},
   "source": [
    "### Generating a json file with contentious terms by ContentiousIssues"
   ]
  },
  {
   "cell_type": "code",
   "execution_count": null,
   "metadata": {},
   "outputs": [],
   "source": [
    "import json\n",
    "import pandas as pd\n",
    "import rdflib\n",
    "from rdflib import Graph\n",
    "from rdflib.namespace import Namespace\n",
    "from rdflib.namespace import SKOS, RDF"
   ]
  },
  {
   "cell_type": "code",
   "execution_count": null,
   "metadata": {},
   "outputs": [],
   "source": [
    "culco = Namespace(\"http://w3id.org/culco#\")\n",
    "skosxl = Namespace(\"http://www.w3.org/2008/05/skos-xl#\")\n",
    "dcterms = Namespace(\"http://purl.org/dc/terms/\")"
   ]
  },
  {
   "cell_type": "code",
   "execution_count": null,
   "metadata": {},
   "outputs": [],
   "source": [
    "path_to_wm = 'https://github.com/cultural-ai/wordsmatter/raw/main/glossary.ttl'"
   ]
  },
  {
   "cell_type": "code",
   "execution_count": null,
   "metadata": {},
   "outputs": [],
   "source": [
    "wm = Graph()\n",
    "wm.parse(path_to_wm, format=\"turtle\")"
   ]
  },
  {
   "cell_type": "code",
   "execution_count": null,
   "metadata": {},
   "outputs": [],
   "source": [
    "CI = wm.query(\n",
    "    \"\"\"        \n",
    "        SELECT ?CI ?CI_title ?contentious_label ?contentious_label_lit\n",
    "\n",
    "        WHERE {\n",
    "\n",
    "          ?CI a culco:ContentiousIssue ;\n",
    "                culco:hasContentiousLabel ?contentious_label ;\n",
    "                dcterms:title ?CI_title .\n",
    "\n",
    "          ?contentious_label skosxl:literalForm ?contentious_label_lit .\n",
    "\n",
    "        }\n",
    "    \"\"\",\n",
    "    \n",
    "    initNs={'culco': culco, 'skosxl':skosxl, 'dcterms':dcterms}\n",
    "    \n",
    ")"
   ]
  },
  {
   "cell_type": "code",
   "execution_count": null,
   "metadata": {},
   "outputs": [],
   "source": [
    "CI_URIs = []\n",
    "CI_titles = []\n",
    "CI_lang = []\n",
    "cont_labels_URIs = []\n",
    "cont_labels_lit = []\n",
    "cont_label_lang = []\n",
    "\n",
    "for row in CI:\n",
    "    \n",
    "    CI_URIs.append(row.CI.split('#')[-1])\n",
    "    CI_lang.append(row.CI_title.language)\n",
    "    CI_titles.append(row.CI_title.value)\n",
    "    cont_labels_URIs.append(row.contentious_label.split('#')[-1])\n",
    "    cont_labels_lit.append(row.contentious_label_lit.value)\n",
    "    cont_label_lang.append(row.contentious_label_lit.language)\n",
    "\n",
    "data_df = {\"CI_URI\":CI_URIs,\n",
    "           \"CI_title\":CI_titles,\n",
    "           \"CI_lang\":CI_lang,\n",
    "           \"cont_label_URI\":cont_labels_URIs,\n",
    "           \"cont_label_lit\":cont_labels_lit,\n",
    "           \"cont_label_lang\":cont_label_lang}"
   ]
  },
  {
   "cell_type": "code",
   "execution_count": null,
   "metadata": {},
   "outputs": [],
   "source": [
    "CI_df = pd.DataFrame(data_df)"
   ]
  },
  {
   "cell_type": "code",
   "execution_count": null,
   "metadata": {},
   "outputs": [],
   "source": [
    "CI_df"
   ]
  },
  {
   "cell_type": "code",
   "execution_count": null,
   "metadata": {},
   "outputs": [],
   "source": [
    "WM_json = {}\n",
    "\n",
    "for group in CI_df.groupby('CI_URI'):\n",
    "        \n",
    "    CI_dict = {\"title\":group[1]['CI_title'].values[0],\"CI_lang\":group[1]['CI_lang'].values[0]}\n",
    "    \n",
    "    cont_labels_dict = {}\n",
    "\n",
    "    cont_labels = list(zip(group[1]['cont_label_URI'].values,group[1]['cont_label_lit'].values,group[1]['cont_label_lang'].values))\n",
    "    \n",
    "    for label in cont_labels:\n",
    "        cont_labels_dict[label[0]] = {\"literal_form\":label[1], \"lang\":label[2]}\n",
    "        \n",
    "    CI_dict[\"contentious_labels\"] = cont_labels_dict\n",
    "        \n",
    "    WM_json[group[1]['CI_URI'].values[0]] = CI_dict"
   ]
  },
  {
   "cell_type": "code",
   "execution_count": null,
   "metadata": {},
   "outputs": [],
   "source": [
    "with open('CI_with_cont_terms.json', 'w') as jf:\n",
    "    json.dump(WM_json, jf)"
   ]
  },
  {
   "cell_type": "code",
   "execution_count": null,
   "metadata": {},
   "outputs": [],
   "source": []
  }
 ],
 "metadata": {
  "kernelspec": {
   "display_name": "Python 3",
   "language": "python",
   "name": "python3"
  },
  "language_info": {
   "codemirror_mode": {
    "name": "ipython",
    "version": 3
   },
   "file_extension": ".py",
   "mimetype": "text/x-python",
   "name": "python",
   "nbconvert_exporter": "python",
   "pygments_lexer": "ipython3",
   "version": "3.8.5"
  }
 },
 "nbformat": 4,
 "nbformat_minor": 4
}
