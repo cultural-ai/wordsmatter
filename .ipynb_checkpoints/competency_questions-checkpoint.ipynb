{
 "cells": [
  {
   "cell_type": "markdown",
   "metadata": {},
   "source": [
    "## Competency questions"
   ]
  },
  {
   "cell_type": "code",
   "execution_count": 1,
   "metadata": {},
   "outputs": [],
   "source": [
    "import rdflib\n",
    "from rdflib import Graph\n",
    "from rdflib.namespace import Namespace\n",
    "from rdflib.namespace import SKOS, RDF"
   ]
  },
  {
   "cell_type": "code",
   "execution_count": 2,
   "metadata": {},
   "outputs": [],
   "source": [
    "culco = Namespace(\"http://example.nl/ontology#\")\n",
    "skosxl = Namespace(\"http://www.w3.org/2008/05/skos-xl#\")\n",
    "dcterms = Namespace(\"http://purl.org/dc/terms/\")"
   ]
  },
  {
   "cell_type": "code",
   "execution_count": 3,
   "metadata": {},
   "outputs": [
    {
     "data": {
      "text/plain": [
       "<Graph identifier=Ne94c41d9873145108ee482037cf9f0ff (<class 'rdflib.graph.Graph'>)>"
      ]
     },
     "execution_count": 3,
     "metadata": {},
     "output_type": "execute_result"
    }
   ],
   "source": [
    "wm = Graph()\n",
    "wm.parse(\"https://raw.githubusercontent.com/cultural-ai/wordsmatter/main/glossary.ttl\", format=\"turtle\")"
   ]
  },
  {
   "cell_type": "code",
   "execution_count": 4,
   "metadata": {},
   "outputs": [
    {
     "data": {
      "text/plain": [
       "2490"
      ]
     },
     "execution_count": 4,
     "metadata": {},
     "output_type": "execute_result"
    }
   ],
   "source": [
    "# N triples\n",
    "len(wm)"
   ]
  },
  {
   "cell_type": "markdown",
   "metadata": {},
   "source": [
    "### 1. Which entries have references to other entries?"
   ]
  },
  {
   "cell_type": "code",
   "execution_count": 5,
   "metadata": {},
   "outputs": [
    {
     "name": "stdout",
     "output_type": "stream",
     "text": [
      "'Negro'(129): ['135', '98']\n",
      "'Berber'(93): ['92']\n",
      "'Bosneger'(102_nl): ['127_nl', '133_nl']\n",
      "'Descent'(101): ['136', '91']\n",
      "'Western'(143): ['139']\n",
      "'Blank'(100_nl): ['147_nl', '149_nl', '109_nl']\n",
      "'Mongool'(130_nl): ['124_nl', '133_nl']\n",
      "'Indisch'(118): ['119']\n",
      "'Bush Negro'(97): ['129', '122']\n",
      "'Black'(94): ['129']\n",
      "'Race'(135): ['98', '129']\n",
      "'Westers'(146_nl): ['103_nl']\n",
      "'Zwart'(149_nl): ['133_nl']\n",
      "'Wit'(147_nl): ['100_nl']\n",
      "'Neger'(133_nl): ['124_nl', '140_nl']\n",
      "'Aboriginal'(90): ['105', '116']\n",
      "'Koppensneller'(126_nl): ['137_nl']\n",
      "'Blank'(95): ['144']\n",
      "'Ras'(140_nl): ['124_nl', '133_nl']\n",
      "'Etniciteit'(106_nl): ['140_nl']\n",
      "'Halfbloed'(110_nl): ['140_nl']\n",
      "'Mulat'(132_nl): ['110_nl']\n",
      "'Half-blood'(110): ['135']\n",
      "'Indisch'(117_nl): ['118_nl']\n",
      "'Headhunter'(111): ['132']\n",
      "'White'(144): ['95']\n",
      "'Gay'(108_nl): ['113_nl']\n",
      "'Berber'(99_nl): ['97_nl']\n",
      "'Aboriginal'(94_nl): ['116_nl', '105_nl']\n",
      "'Mulatto'(127): ['110']\n"
     ]
    }
   ],
   "source": [
    "q_1 = wm.query(\n",
    "    \"\"\"SELECT ?CI ?cont_issue (GROUP_CONCAT(?CI_2;SEPARATOR=\",\") AS ?CI_2_list)\n",
    "        \n",
    "        {\n",
    "            ?CI dcterms:references ?CI_2 .\n",
    "            ?CI dcterms:title ?cont_issue .\n",
    "        }\n",
    "         GROUP BY ?CI\n",
    "         \"\"\")\n",
    "\n",
    "for row in q_1:\n",
    "    print(f\"'{row.cont_issue}'({row.CI.split('#')[-1]}): {[e.split('#')[-1] for e in row.CI_2_list.split(',')]}\")"
   ]
  },
  {
   "cell_type": "markdown",
   "metadata": {},
   "source": [
    "### 2. How do entries in English and Dutch glossaries correspond to each other?"
   ]
  },
  {
   "cell_type": "code",
   "execution_count": 6,
   "metadata": {},
   "outputs": [
    {
     "name": "stdout",
     "output_type": "stream",
     "text": [
      "https://w3id.org/culco/wordsmatter#94 ('Black'(en)) = https://w3id.org/culco/wordsmatter#149_nl ('Zwart'(nl))\n",
      "https://w3id.org/culco/wordsmatter#116 ('Indian'(en)) = https://w3id.org/culco/wordsmatter#116_nl ('Indiaan'(nl))\n",
      "https://w3id.org/culco/wordsmatter#135 ('Race'(en)) = https://w3id.org/culco/wordsmatter#140_nl ('Ras'(nl))\n",
      "https://w3id.org/culco/wordsmatter#137 ('Servant'(en)) = https://w3id.org/culco/wordsmatter#98_nl ('Bediende'(nl))\n",
      "https://w3id.org/culco/wordsmatter#104 ('Dwarf'(en)) = https://w3id.org/culco/wordsmatter#104_nl ('Dwerg'(nl))\n",
      "https://w3id.org/culco/wordsmatter#90 ('Aboriginal'(en)) = https://w3id.org/culco/wordsmatter#94_nl ('Aboriginal'(nl))\n",
      "https://w3id.org/culco/wordsmatter#112 ('Hermaphrodite'(en)) = https://w3id.org/culco/wordsmatter#112_nl ('Hermafrodiet'(nl))\n",
      "https://w3id.org/culco/wordsmatter#126 ('Moor'(en)) = https://w3id.org/culco/wordsmatter#131_nl ('Moor'(nl))\n",
      "https://w3id.org/culco/wordsmatter#92 ('Barbarian'(en)) = https://w3id.org/culco/wordsmatter#97_nl ('Barbaar'(nl))\n",
      "https://w3id.org/culco/wordsmatter#117 ('Indigenous'(en)) = https://w3id.org/culco/wordsmatter#119_nl ('Inheems'(nl))\n",
      "https://w3id.org/culco/wordsmatter#125 ('Mongoloid'(en)) = https://w3id.org/culco/wordsmatter#130_nl ('Mongool'(nl))\n",
      "https://w3id.org/culco/wordsmatter#134 ('Queer'(en)) = https://w3id.org/culco/wordsmatter#139_nl ('Queer'(nl))\n",
      "https://w3id.org/culco/wordsmatter#111 ('Headhunter'(en)) = https://w3id.org/culco/wordsmatter#126_nl ('Koppensneller'(nl))\n",
      "https://w3id.org/culco/wordsmatter#118 ('Indisch'(nl)) = https://w3id.org/culco/wordsmatter#117_nl ('Indisch'(nl))\n",
      "https://w3id.org/culco/wordsmatter#142 ('Tribe'(en)) = https://w3id.org/culco/wordsmatter#143_nl ('Stam'(nl))\n",
      "https://w3id.org/culco/wordsmatter#100 ('Coolie'(en)) = https://w3id.org/culco/wordsmatter#125_nl ('Koelie'(nl))\n",
      "https://w3id.org/culco/wordsmatter#106 ('Ethnicity'(en)) = https://w3id.org/culco/wordsmatter#106_nl ('Etniciteit'(nl))\n",
      "https://w3id.org/culco/wordsmatter#132 ('Primitive'(en)) = https://w3id.org/culco/wordsmatter#137_nl ('Primitief'(nl))\n",
      "https://w3id.org/culco/wordsmatter#139 ('Third World'(en)) = https://w3id.org/culco/wordsmatter#103_nl ('(De) Derde Wereld'(nl))\n",
      "https://w3id.org/culco/wordsmatter#113 ('Homosexual'(en)) = https://w3id.org/culco/wordsmatter#113_nl ('Homo'(nl))\n",
      "https://w3id.org/culco/wordsmatter#93 ('Berber'(en)) = https://w3id.org/culco/wordsmatter#99_nl ('Berber'(nl))\n",
      "https://w3id.org/culco/wordsmatter#115 ('Inboorling'(nl)) = https://w3id.org/culco/wordsmatter#115_nl ('Inboorling'(nl))\n",
      "https://w3id.org/culco/wordsmatter#127 ('Mulatto'(en)) = https://w3id.org/culco/wordsmatter#132_nl ('Mulat'(nl))\n",
      "https://w3id.org/culco/wordsmatter#97 ('Bush Negro'(en)) = https://w3id.org/culco/wordsmatter#102_nl ('Bosneger'(nl))\n",
      "https://w3id.org/culco/wordsmatter#99 ('Colored'(en)) = https://w3id.org/culco/wordsmatter#109_nl ('Gekleurd'(nl))\n",
      "https://w3id.org/culco/wordsmatter#129 ('Negro'(en)) = https://w3id.org/culco/wordsmatter#133_nl ('Neger'(nl))\n",
      "https://w3id.org/culco/wordsmatter#120 ('Jappenkampen'(nl)) = https://w3id.org/culco/wordsmatter#122_nl ('Jappenkampen'(nl))\n",
      "https://w3id.org/culco/wordsmatter#140 ('Traditional'(en)) = https://w3id.org/culco/wordsmatter#144_nl ('Traditioneel'(nl))\n",
      "https://w3id.org/culco/wordsmatter#122 ('Maroon'(en)) = https://w3id.org/culco/wordsmatter#127_nl ('Marron'(nl))\n",
      "https://w3id.org/culco/wordsmatter#143 ('Western'(en)) = https://w3id.org/culco/wordsmatter#146_nl ('Westers'(nl))\n",
      "https://w3id.org/culco/wordsmatter#130 ('Oriental'(en)) = https://w3id.org/culco/wordsmatter#135_nl ('Oriëntaals'(nl))\n",
      "https://w3id.org/culco/wordsmatter#107 ('Exotic'(en)) = https://w3id.org/culco/wordsmatter#107_nl ('Exotisch'(nl))\n",
      "https://w3id.org/culco/wordsmatter#133 ('Pygmy'(en)) = https://w3id.org/culco/wordsmatter#138_nl ('Pygmee'(nl))\n",
      "https://w3id.org/culco/wordsmatter#124 ('Mohammedan'(en)) = https://w3id.org/culco/wordsmatter#129_nl ('Mohammedaan'(nl))\n",
      "https://w3id.org/culco/wordsmatter#108 ('Gay'(en)) = https://w3id.org/culco/wordsmatter#108_nl ('Gay'(nl))\n",
      "https://w3id.org/culco/wordsmatter#123 ('Medicine Man'(en)) = https://w3id.org/culco/wordsmatter#128_nl ('Medicijnman'(nl))\n",
      "https://w3id.org/culco/wordsmatter#105 ('Eskimo'(en)) = https://w3id.org/culco/wordsmatter#105_nl ('Eskimo'(nl))\n",
      "https://w3id.org/culco/wordsmatter#114 ('Hottentot'(en)) = https://w3id.org/culco/wordsmatter#114_nl ('Hottentot'(nl))\n",
      "https://w3id.org/culco/wordsmatter#136 ('Roots'(en)) = https://w3id.org/culco/wordsmatter#141_nl ('Roots'(nl))\n",
      "https://w3id.org/culco/wordsmatter#109 ('Gypsy'(en)) = https://w3id.org/culco/wordsmatter#148_nl ('Zigeuner'(nl))\n",
      "https://w3id.org/culco/wordsmatter#91 ('Allochtoon'(en)) = https://w3id.org/culco/wordsmatter#96_nl ('Allochtoon'(nl))\n",
      "https://w3id.org/culco/wordsmatter#110 ('Half-blood'(en)) = https://w3id.org/culco/wordsmatter#110_nl ('Halfbloed'(nl))\n",
      "https://w3id.org/culco/wordsmatter#98 ('Caucasian'(en)) = https://w3id.org/culco/wordsmatter#124_nl ('Kaukasisch'(nl))\n",
      "https://w3id.org/culco/wordsmatter#131 ('Politionele actie'(nl)) = https://w3id.org/culco/wordsmatter#136_nl ('Politionele actie'(nl))\n",
      "https://w3id.org/culco/wordsmatter#103 ('Discover'(en)) = https://w3id.org/culco/wordsmatter#134_nl ('Ontdekken'(nl))\n",
      "https://w3id.org/culco/wordsmatter#95 ('Blank'(nl)) = https://w3id.org/culco/wordsmatter#100_nl ('Blank'(nl))\n",
      "https://w3id.org/culco/wordsmatter#141 ('Trans'(en)) = https://w3id.org/culco/wordsmatter#145_nl ('Trans'(nl))\n",
      "https://w3id.org/culco/wordsmatter#96 ('Bombay'(en)) = https://w3id.org/culco/wordsmatter#101_nl ('Bombay'(nl))\n",
      "https://w3id.org/culco/wordsmatter#102 ('Disabled'(en)) = https://w3id.org/culco/wordsmatter#111_nl ('Handicap'(nl))\n",
      "https://w3id.org/culco/wordsmatter#138 ('Slave'(en)) = https://w3id.org/culco/wordsmatter#142_nl ('Slaaf'(nl))\n",
      "https://w3id.org/culco/wordsmatter#144 ('White'(en)) = https://w3id.org/culco/wordsmatter#147_nl ('Wit'(nl))\n",
      "https://w3id.org/culco/wordsmatter#119 ('Indo'(en)) = https://w3id.org/culco/wordsmatter#118_nl ('Indo'(nl))\n",
      "https://w3id.org/culco/wordsmatter#101 ('Descent'(en)) = https://w3id.org/culco/wordsmatter#95_nl ('Afkomst'(nl))\n",
      "https://w3id.org/culco/wordsmatter#121 ('Kaffir'(en)) = https://w3id.org/culco/wordsmatter#123_nl ('Kaffer'(nl))\n"
     ]
    }
   ],
   "source": [
    "q_2 = wm.query(\n",
    "    \"\"\"SELECT ?CI_en ?CI_en_title ?CI_nl ?CI_nl_title\n",
    "    WHERE {\n",
    "    ?CI_nl skos:exactMatch ?CI_en .\n",
    "    ?CI_en dcterms:title ?CI_en_title .\n",
    "    ?CI_nl dcterms:title ?CI_nl_title .\n",
    "    }\n",
    "       \"\"\")\n",
    "\n",
    "for row in q_2:\n",
    "    print(f\"{row.CI_en} ('{row.CI_en_title}'({row.CI_en_title.language})) = {row.CI_nl} ('{row.CI_nl_title}'({row.CI_nl_title.language}))\")"
   ]
  },
  {
   "cell_type": "markdown",
   "metadata": {},
   "source": [
    "### 3. Get all suggested labels for every contentious label"
   ]
  },
  {
   "cell_type": "code",
   "execution_count": 7,
   "metadata": {},
   "outputs": [
    {
     "name": "stdout",
     "output_type": "stream",
     "text": [
      "'Negro' (en): ['Black']\n",
      "'Jappenkamp' (nl): ['Japanese camp', 'Japans kamp voor krijgsgevangenen', 'Japanese internment camp', 'Japans kamp voor militaire gevangenen (in Birma en Thailand)', 'Japans concentratiekamp', 'Japans kamp', 'Japanese military prison camp (in Burma and Thailand)', 'Japanese concentration camp', 'Japanese prisoners of war camp', 'Japans interneringskamp']\n",
      "'Jappenkampen' (nl): ['Japanese camp', 'Japans kamp voor krijgsgevangenen', 'Japanese internment camp', 'Japans kamp voor militaire gevangenen (in Birma en Thailand)', 'Japans concentratiekamp', 'Japans kamp', 'Japanese military prison camp (in Burma and Thailand)', 'Japanese concentration camp', 'Japanese prisoners of war camp', 'Japans interneringskamp']\n",
      "'travestiet' (nl): ['crossdresser']\n",
      "'Trans' (nl): ['crossdresser']\n",
      "'Hottentot' (nl): ['Khoisan']\n",
      "'Slaaf' (nl): ['Tot slaaf gemaakt', 'mensen in slavernij']\n",
      "'Disabled' (en): ['Differently abled', 'People with disabilities', 'Disabled people']\n",
      "'Slave' (en): ['Enslaved', 'enslaved person']\n",
      "'Aboriginal' (nl): ['inheems', 'Aboriginal', 'Aboriginal personen', 'First Nations', 'Straat Torres-\\xadeilanders']\n",
      "'Gekleurd' (nl): ['Iemand van kleur', 'Zwart', 'niet\\xad-zwarte mensen van kleur', 'mensen van kleur']\n",
      "'Aboriginal' (en): ['Aboriginal peoples', 'First Nation people', 'Aboriginal people', 'Torres Strait Islander peoples', 'First Nation peoples', 'Indigenous', 'Aboriginal', 'First Nations people']\n",
      "'Colored' (en): ['Black and Non-Black person of color', 'Black and Non-Black persons of color', 'Persons of Color', 'People of Color', 'Black and Non-Black People of Color', 'Person of Color']\n",
      "'Berber' (nl): ['Amazigh', 'Imazighen']\n",
      "'Queer' (en): ['LGBT']\n",
      "'Caucasian' (en): ['White', 'Caucasian']\n",
      "'Berber' (en): ['Imazighen', 'Amazigh']\n",
      "'Half-blood' (en): ['mixed race']\n",
      "'Indo' (en): ['Indo-European']\n",
      "'Mohammedaan' (nl): ['Moslim']\n",
      "'Blank' (nl): ['White', 'White', 'Wit', 'Wit']\n",
      "'Politionele actie' (nl): ['First and Second Dutch-Indonesian Wars', 'Eerste en Tweede Nederlands\\xad Indonesische oorlogen']\n",
      "'Medicijnman' (nl): ['traditionele healer', 'spirituele healer']\n",
      "'Dwerg' (nl): ['iemand met dwerggroei', 'van kleine lengte', 'kleine mensen']\n",
      "'Oriental' (en): ['Asian']\n",
      "'Medicine Man' (en): ['Traditional healer', 'spiritual healer']\n",
      "'Oriëntaals' (nl): ['Aziatisch']\n",
      "'Queer' (nl): ['LGBT']\n",
      "'Hermafrodiet' (nl): ['intersekse']\n",
      "'Bush Negro' (en): ['Maroon']\n",
      "'Mulat' (nl): ['mixed race', 'van gemengde afkomst', 'gemengd']\n",
      "'Halfbloed' (nl): ['mixed race', 'van gemengde afkomst', 'gemengd']\n",
      "'mesties' (nl): ['mixed race', 'van gemengde afkomst', 'gemengd']\n",
      "'Gypsy' (en): ['Roma']\n",
      "'Traditioneel' (nl): ['historisch']\n",
      "'Hottentot' (en): ['Khoisan']\n",
      "'Indo' (nl): ['Indo\\xad-Europeaan']\n",
      "'Dwarf' (en): ['little person', 'someone with dwarfism', 'a person of short stature']\n",
      "'Bosneger' (nl): ['Marron']\n",
      "'Hermaphrodite' (en): ['intersex']\n",
      "'Traditional' (en): ['historic']\n",
      "'Zigeuner' (nl): ['Roma']\n",
      "'Islamiet' (nl): ['Moslim']\n",
      "'Handicap' (nl): ['Mensen met een beperking']\n",
      "'gehandicapten' (nl): ['Mensen met een beperking']\n",
      "'transvestite' (en): ['cross-dresser']\n",
      "'Bombay' (en): ['Mumbai']\n",
      "'Bombay' (nl): ['Mumbai']\n",
      "'Kaukasisch' (nl): ['Kaukasisch', 'Wit']\n",
      "'Mohammedan' (en): ['Muslim']\n"
     ]
    }
   ],
   "source": [
    "q_3 = wm.query(\n",
    "    \"\"\"SELECT ?cont_label (GROUP_CONCAT(?sug_label;SEPARATOR=\",\") AS ?sug_label_list)\n",
    "    WHERE {\n",
    "    ?Suggestion culco:suggestedFor / skosxl:literalForm ?cont_label ;\n",
    "        culco:hasSuggestedLabel / skosxl:literalForm ?sug_label .}\n",
    "    GROUP BY ?cont_label \"\"\")\n",
    "\n",
    "for row in q_3:\n",
    "    print(f\"'{row.cont_label}' ({row.cont_label.language}): {[s for s in row.sug_label_list.split(',')]}\")"
   ]
  },
  {
   "cell_type": "markdown",
   "metadata": {},
   "source": [
    "### 4. Get all contentious labels without suggestions"
   ]
  },
  {
   "cell_type": "code",
   "execution_count": 8,
   "metadata": {},
   "outputs": [
    {
     "name": "stdout",
     "output_type": "stream",
     "text": [
      "'mestizo' (en)\n",
      "'Zuid­-Rhodesië' (nl)\n",
      "'etnische groep' (nl)\n",
      "'Calcutta' (nl)\n",
      "'Inuit' (en)\n",
      "'Métis' (en)\n",
      "'Handicap' (en)\n",
      "'Burma' (en)\n",
      "'Madras' (nl)\n",
      "'Boslandcreool' (nl)\n",
      "'Batavia' (nl)\n",
      "'Jap' (nl)\n",
      "'half-breed' (en)\n",
      "'Southern Rhodesia' (en)\n",
      "'immigrant' (en)\n",
      "'Inuit' (nl)\n",
      "'full blood' (en)\n",
      "'Birma' (nl)\n",
      "'volbloed' (nl)\n",
      "'lilliputter' (nl)\n",
      "'Métis' (nl)\n",
      "'Batavia' (en)\n",
      "'lilliputian' (en)\n",
      "'Madras' (en)\n",
      "'Calcutta' (en)\n"
     ]
    }
   ],
   "source": [
    "q_4 = wm.query(\n",
    "    \"\"\"SELECT DISTINCT ?cont_label_lit \n",
    "    WHERE {\n",
    "    ?CI culco:hasContentiousLabel ?cont_label .\n",
    "    ?cont_label skosxl:literalForm ?cont_label_lit .\n",
    "    FILTER NOT EXISTS {\n",
    "    ?Suggestion culco:suggestedFor ?cont_label } }\"\"\")\n",
    "\n",
    "for row in q_4:\n",
    "    print(f\"'{row.cont_label_lit}' ({row.cont_label_lit.language})\")"
   ]
  },
  {
   "cell_type": "markdown",
   "metadata": {},
   "source": [
    "### 5. Which Contentious Issues are unique to the Dutch version of the glossary?"
   ]
  },
  {
   "cell_type": "code",
   "execution_count": 9,
   "metadata": {},
   "outputs": [
    {
     "name": "stdout",
     "output_type": "stream",
     "text": [
      "'Inlander'\n",
      "'Islamiet'\n"
     ]
    }
   ],
   "source": [
    "q_5 = wm.query(\n",
    "    \"\"\"SELECT ?CI_nl_title \n",
    "    WHERE {\n",
    "    ?CI_nl dcterms:title ?CI_nl_title ;\n",
    "           dcterms:description ?CI_nl_description .\n",
    "    FILTER (lang(?CI_nl_description) = \"nl\")      \n",
    "    FILTER NOT EXISTS {\n",
    "    ?CI_nl skos:exactMatch ?CI_en .}}\"\"\")\n",
    "\n",
    "for row in q_5:\n",
    "    print(f\"'{row.CI_nl_title}'\")"
   ]
  },
  {
   "cell_type": "markdown",
   "metadata": {},
   "source": [
    "### 6. Which contentious terms share similar suggestions?"
   ]
  },
  {
   "cell_type": "code",
   "execution_count": 10,
   "metadata": {},
   "outputs": [
    {
     "name": "stdout",
     "output_type": "stream",
     "text": [
      "https://w3id.org/culco/wordsmatter#110_nl_s_01: ['Mulat', 'Halfbloed', 'mesties']\n",
      "https://w3id.org/culco/wordsmatter#137_nl_s_01: ['Primitief', 'Primitivisme']\n",
      "https://w3id.org/culco/wordsmatter#98_nl_s_01: ['baboe', 'page', 'Bediende', 'knecht']\n",
      "https://w3id.org/culco/wordsmatter#120_nl_s_01: ['Inboorling', 'Inlander']\n",
      "https://w3id.org/culco/wordsmatter#98_nl_s_02: ['Bediende', 'knecht', 'baboe', 'page']\n",
      "https://w3id.org/culco/wordsmatter#145_nl_s_02: ['travestiet', 'Trans']\n",
      "https://w3id.org/culco/wordsmatter#3_nl_s: ['Gay', 'Trans', 'Queer', 'Homo']\n",
      "https://w3id.org/culco/wordsmatter#110_nl_s_02: ['Mulat', 'Halfbloed', 'mesties']\n",
      "https://w3id.org/culco/wordsmatter#147_nl_s_01: ['Blank', 'Wit']\n",
      "https://w3id.org/culco/wordsmatter#139_s_02: ['Developing nations', 'First World', 'Second World', 'Third World', 'low-income countries']\n",
      "https://w3id.org/culco/wordsmatter#0_s: ['Colored', 'Tribe', 'Pygmy', 'Allochtoon', 'Indian', 'Aboriginal', 'Descent']\n",
      "https://w3id.org/culco/wordsmatter#104_nl_s_02: ['Pygmee', 'Dwerg']\n",
      "https://w3id.org/culco/wordsmatter#106_s_01: ['Ethnicity', 'ethnic groups']\n",
      "https://w3id.org/culco/wordsmatter#3_s: ['Colored', 'Mulatto', 'Inboorling', 'Moor', 'Negro', 'Headhunter', 'Kaffir']\n",
      "https://w3id.org/culco/wordsmatter#113_nl_s_01: ['Homo', 'Homoseksualiteit', 'Homoseksueel']\n",
      "https://w3id.org/culco/wordsmatter#132_s_02: ['Primitivism', 'Primitive']\n",
      "https://w3id.org/culco/wordsmatter#1_s: ['Trans', 'Gay']\n",
      "https://w3id.org/culco/wordsmatter#144_s_01: ['Blank', 'White']\n",
      "https://w3id.org/culco/wordsmatter#104_s_02: ['Pygmy', 'Dwarf']\n",
      "https://w3id.org/culco/wordsmatter#125_s_03: ['retarded', 'Mongoloid']\n",
      "https://w3id.org/culco/wordsmatter#111_nl_s_01: ['Handicap', 'gehandicapten']\n",
      "https://w3id.org/culco/wordsmatter#2_nl_s: ['Stam', 'Etniciteit']\n",
      "https://w3id.org/culco/wordsmatter#113_s_01: ['homo', 'Homosexual']\n",
      "https://w3id.org/culco/wordsmatter#0_nl_s: ['Inheems', 'Afkomst', 'Gekleurd', 'Aboriginal', 'Allochtoon', 'Pygmee', 'Stam', 'Indiaan']\n",
      "https://w3id.org/culco/wordsmatter#1_nl_s: ['Bosneger', 'Koppensneller', 'Gekleurd', 'Neger', 'Kaffer', 'Mulat', 'Inlander', 'Inboorling', 'Moor', 'Kaukasisch']\n",
      "https://w3id.org/culco/wordsmatter#120_s_01: ['Jappenkamp', 'Jappenkampen']\n",
      "https://w3id.org/culco/wordsmatter#130_nl_s_03: ['achterlijk', 'Mongool']\n",
      "https://w3id.org/culco/wordsmatter#113_nl_s_02: ['Homoseksueel', 'Homo', 'Homoseksualiteit']\n",
      "https://w3id.org/culco/wordsmatter#2_s: ['Primitive', 'Primitivism', 'Inboorling', 'Negro']\n",
      "https://w3id.org/culco/wordsmatter#122_nl_s_01: ['Jappenkampen', 'Jappenkamp']\n",
      "https://w3id.org/culco/wordsmatter#103_nl_s_02: ['Derde Wereld', 'Eerste Wereld', 'ontwikkelingslanden', 'lagelonenlanden', 'Tweede Wereld']\n",
      "https://w3id.org/culco/wordsmatter#137_s_01: ['Servant', 'Baboo', 'Footmen', 'Page']\n",
      "https://w3id.org/culco/wordsmatter#4_s: ['Native', 'Tribe', 'Black']\n"
     ]
    }
   ],
   "source": [
    "q_6 = wm.query(\n",
    "    \"\"\"SELECT ?Suggestion (GROUP_CONCAT(?cont_label_lit;SEPARATOR=\",\") AS ?cont_label_lit_list)\n",
    "    WHERE {\n",
    "        ?Suggestion a culco:Suggestion ;\n",
    "                    culco:suggestedFor ?cont_label .\n",
    "        ?cont_label skosxl:literalForm ?cont_label_lit .\n",
    "    }\n",
    "    GROUP BY ?Suggestion\n",
    "    \"\"\")\n",
    "\n",
    "for row in q_6:\n",
    "    cont_label_lit = row.cont_label_lit_list.split(',')\n",
    "    if len(cont_label_lit) > 1 :\n",
    "        print(f\"{row.Suggestion}: {cont_label_lit}\")"
   ]
  },
  {
   "cell_type": "markdown",
   "metadata": {},
   "source": [
    "### 7. Which Contentious Issues mention more than one contentious term?"
   ]
  },
  {
   "cell_type": "code",
   "execution_count": 11,
   "metadata": {},
   "outputs": [
    {
     "name": "stdout",
     "output_type": "stream",
     "text": [
      "'Bediende'(nl): ['baboe', 'page', 'Bediende', 'knecht']\n",
      "'(De) Derde Wereld'(nl): ['Tweede Wereld', 'Derde Wereld', 'Eerste Wereld', 'ontwikkelingslanden', 'lagelonenlanden']\n",
      "'Jappenkampen'(nl): ['Jappenkamp', 'Jap', 'Jappenkampen']\n",
      "'Inboorling'(nl): ['Inboorling', 'Inlander']\n",
      "'Third World'(en): ['Third World', 'Developing nations', 'low-income countries', 'First World', 'Second World']\n",
      "'Homo'(nl): ['Homoseksueel', 'Homo', 'Homoseksualiteit']\n",
      "'Bush Negro'(en): ['Maroon', 'Bush Negro', 'Negro', 'Boslandcreool']\n",
      "'Gay'(en): ['Gay', 'homo', 'Homosexual']\n",
      "'Homosexual'(en): ['homo', 'Homosexual']\n",
      "'Disabled'(en): ['Handicap', 'Disabled']\n",
      "'Blank'(nl): ['Black', 'Blank', 'White']\n",
      "'Headhunter'(en): ['Primitive', 'Headhunter']\n",
      "'Oriental'(en): ['Oriental', 'Exotic']\n",
      "'Handicap'(nl): ['Handicap', 'gehandicapten']\n",
      "'Aboriginal'(nl): ['Indiaan', 'Métis', 'Inuit', 'Aboriginal']\n",
      "'Allochtoon'(en): ['immigrant', 'Allochtoon']\n",
      "'Dwarf'(en): ['lilliputian', 'Pygmy', 'Dwarf']\n",
      "'Trans'(nl): ['travestiet', 'Trans']\n",
      "'Bosneger'(nl): ['Neger', 'Boslandcreool', 'Marron', 'Bosneger']\n",
      "'Bombay'(nl): ['Madras', 'Calcutta', 'Bombay', 'Birma', 'Batavia', 'Zuid\\xad-Rhodesië']\n",
      "'Dwerg'(nl): ['lilliputter', 'Pygmee', 'Dwerg']\n",
      "'Wit'(nl): ['Wit', 'Blank']\n",
      "'Bombay'(en): ['Burma', 'Batavia', 'Southern Rhodesia', 'Madras', 'Calcutta', 'Bombay']\n",
      "'Primitive'(en): ['Primitive', 'Primitivism']\n",
      "'Half-blood'(en): ['Half-blood', 'Mulatto', 'mestizo', 'half-breed', 'full blood']\n",
      "'Trans'(en): ['transvestite', 'Trans']\n",
      "'Primitief'(nl): ['Primitief', 'Primitivisme']\n",
      "'Koppensneller'(nl): ['Koppensneller', 'Primitief']\n",
      "'Colored'(en): ['Blank', 'White', 'Colored']\n",
      "'Inboorling'(nl): ['Native', 'Inboorling']\n",
      "'Servant'(en): ['Baboo', 'Footmen', 'Page', 'Servant']\n",
      "'Gay'(nl): ['Gay', 'Homo']\n",
      "'Jappenkampen'(nl): ['Jappenkamp', 'Jap', 'Jappenkampen']\n",
      "'Etniciteit'(nl): ['Ras', 'etnische groep', 'Etniciteit']\n",
      "'Halfbloed'(nl): ['mesties', 'Halfbloed', 'Mulat', 'volbloed']\n",
      "'Gekleurd'(nl): ['Zwart', 'Wit', 'Gekleurd']\n",
      "'Mongoloid'(en): ['Mongoloid', 'Caucasian', 'retarded', 'Negro']\n",
      "'Westers'(nl): ['Westers', 'Derde Wereld']\n",
      "'Oriëntaals'(nl): ['Exotisch', 'Oriëntaals']\n",
      "'Zwart'(nl): ['Neger', 'Zwart']\n",
      "'Mongool'(nl): ['Neger', 'Kaukasisch', 'Mongool', 'achterlijk']\n",
      "'Ethnicity'(en): ['Race', 'ethnic groups', 'Ethnicity']\n",
      "'Black'(en): ['Black', 'Negro']\n",
      "'White'(en): ['Blank', 'White']\n",
      "'Western'(en): ['Western', 'Third World']\n",
      "'Aboriginal'(en): ['Inuit', 'Aboriginal', 'Métis', 'Indian']\n"
     ]
    }
   ],
   "source": [
    "q_7 = wm.query(\n",
    "\"\"\"\n",
    "SELECT ?CI ?CI_title ?cont_label_lit (GROUP_CONCAT(?cont_label_lit;SEPARATOR=\",\") AS ?cont_label_lit_list)\n",
    "    WHERE {\n",
    "    ?CI a culco:ContentiousIssue ;\n",
    "        dcterms:title ?CI_title ;\n",
    "        culco:hasContentiousLabel / skosxl:literalForm ?cont_label_lit .\n",
    "    }\n",
    "    GROUP BY ?CI\n",
    "\"\"\")\n",
    "\n",
    "for row in q_7:\n",
    "    labels = row.cont_label_lit_list.split(',')\n",
    "    if len(labels) > 1 :\n",
    "        print(f\"'{row.CI_title}'({row.CI_title.language}): {labels}\")"
   ]
  },
  {
   "cell_type": "markdown",
   "metadata": {},
   "source": [
    "### 8. Which Contentious Issues in the English glossary have titles in Dutch? "
   ]
  },
  {
   "cell_type": "code",
   "execution_count": 12,
   "metadata": {},
   "outputs": [
    {
     "name": "stdout",
     "output_type": "stream",
     "text": [
      "'Indisch'(nl)\n",
      "'Blank'(nl)\n",
      "'Inboorling'(nl)\n",
      "'Politionele actie'(nl)\n",
      "'Jappenkampen'(nl)\n"
     ]
    }
   ],
   "source": [
    "q_8 = wm.query(\n",
    "\"\"\"\n",
    "SELECT ?CI ?CI_title\n",
    "WHERE {\n",
    "?CI a culco:ContentiousIssue ;\n",
    "    dcterms:title ?CI_title ;\n",
    "    dcterms:description ?CI_description .\n",
    "    \n",
    "    FILTER(lang(?CI_title) = \"nl\")\n",
    "    FILTER(lang(?CI_description) = \"en\")\n",
    "}\n",
    "\n",
    "\"\"\")\n",
    "\n",
    "for row in q_8:\n",
    "    print(f\"'{row.CI_title}'({row.CI_title.language})\")"
   ]
  },
  {
   "cell_type": "markdown",
   "metadata": {},
   "source": [
    "### 9. Which contentious labels are used in the Contentious Issue \"Aboriginal\"(en) and its related CIs?"
   ]
  },
  {
   "cell_type": "code",
   "execution_count": 13,
   "metadata": {},
   "outputs": [],
   "source": [
    "def get_cont_labels(title:str, lang='en') -> str:\n",
    "    '''\n",
    "    Get contentious labels mentioned in a Contentious Issue and its referenced Contentious Issues\n",
    "    Return str\n",
    "    title: str title of Contnetious Issue\n",
    "    lang: str language of Contnetious Issue: 'en' or 'nl'; default 'en'\n",
    "    '''\n",
    "    \n",
    "    search_str = f\"'{title}'@{lang}\"\n",
    "    \n",
    "    query_str = \"\"\"SELECT ?CI ?cont_label_lit ?cont_label_lit_referenced \n",
    "    WHERE{\n",
    "    ?CI a culco:ContentiousIssue ;\n",
    "        dcterms:title ?CI_title ;\n",
    "        culco:hasContentiousLabel / skosxl:literalForm ?cont_label_lit .\n",
    "\n",
    "        OPTIONAL {?CI dcterms:references / culco:hasContentiousLabel / skosxl:literalForm ?cont_label_lit_referenced .}\n",
    "\n",
    "    FILTER(?CI_title = \"\"\" + search_str + \"\"\")}\"\"\"\n",
    "    \n",
    "    q_9 = wm.query(query_str)\n",
    "\n",
    "    all_labels = []\n",
    "    CI = q_9.bindings[0]['CI']\n",
    "    for row in q_9:\n",
    "        all_labels.append(row.cont_label_lit.value)\n",
    "        if row.cont_label_lit_referenced != None:\n",
    "            all_labels.append(row.cont_label_lit_referenced.value)\n",
    "\n",
    "    result_str = f\"{CI}: {set(all_labels)}\"\n",
    "        \n",
    "    return result_str"
   ]
  },
  {
   "cell_type": "code",
   "execution_count": 14,
   "metadata": {
    "scrolled": true
   },
   "outputs": [
    {
     "data": {
      "text/plain": [
       "\"https://w3id.org/culco/wordsmatter#90: {'Métis', 'Inuit', 'Eskimo', 'Indian', 'Aboriginal'}\""
      ]
     },
     "execution_count": 14,
     "metadata": {},
     "output_type": "execute_result"
    }
   ],
   "source": [
    "get_cont_labels('Aboriginal','en')"
   ]
  },
  {
   "cell_type": "markdown",
   "metadata": {},
   "source": [
    "### 10. Which Contentious Issues mention the term \"white\"(en) in the description text?"
   ]
  },
  {
   "cell_type": "code",
   "execution_count": 15,
   "metadata": {},
   "outputs": [
    {
     "name": "stdout",
     "output_type": "stream",
     "text": [
      "'Race'\n",
      "'Caucasian'\n",
      "'Blank'\n",
      "'Allochtoon'\n",
      "'Half-blood'\n",
      "'Colored'\n",
      "'Roots'\n",
      "'Mulatto'\n",
      "'Black'\n",
      "'White'\n"
     ]
    }
   ],
   "source": [
    "q_10 = wm.query(\n",
    "    \"\"\"\n",
    "    SELECT ?CI_title\n",
    "    WHERE {\n",
    "    ?CI a culco:ContentiousIssue ;\n",
    "        dcterms:title ?CI_title ;\n",
    "        dcterms:description ?CI_desc .\n",
    "        \n",
    "    FILTER (regex(?CI_desc,'white','i'))\n",
    "    }\n",
    "    \"\"\")\n",
    "\n",
    "for row in q_10:\n",
    "    print(f\"'{row.CI_title}'\")"
   ]
  }
 ],
 "metadata": {
  "kernelspec": {
   "display_name": "Python 3",
   "language": "python",
   "name": "python3"
  },
  "language_info": {
   "codemirror_mode": {
    "name": "ipython",
    "version": 3
   },
   "file_extension": ".py",
   "mimetype": "text/x-python",
   "name": "python",
   "nbconvert_exporter": "python",
   "pygments_lexer": "ipython3",
   "version": "3.8.5"
  }
 },
 "nbformat": 4,
 "nbformat_minor": 4
}
