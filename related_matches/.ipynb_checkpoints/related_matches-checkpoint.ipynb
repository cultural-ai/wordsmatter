{
 "cells": [
  {
   "cell_type": "markdown",
   "metadata": {},
   "source": [
    "## Convert related matches to json, add their literal values"
   ]
  },
  {
   "cell_type": "code",
   "execution_count": 7,
   "metadata": {},
   "outputs": [],
   "source": [
    "import csv\n",
    "import json\n",
    "import pandas as pd\n",
    "import requests"
   ]
  },
  {
   "cell_type": "code",
   "execution_count": 2,
   "metadata": {},
   "outputs": [],
   "source": [
    "related_matches = pd.read_csv('rm.csv')"
   ]
  },
  {
   "cell_type": "code",
   "execution_count": 4,
   "metadata": {},
   "outputs": [],
   "source": [
    "# generating a dict\n",
    "related_matches_dict = {}\n",
    "\n",
    "for row in related_matches.iterrows():\n",
    "    \n",
    "    rm_per_label = {'aat':[row[1].aat],\n",
    "                    'wikidata':[row[1].wikidata],\n",
    "                    'pwn':row[1].pwn.split('#'),\n",
    "                    'odwn':row[1].odwn.split('#'),\n",
    "                    'nmvw':[row[1].nmvw]}\n",
    "    \n",
    "    related_matches_dict[row[1].label_uri] = {'literal_form':row[1].literal,\n",
    "                                             'lang':row[1].lang,\n",
    "                                             'query_terms':row[1].query_terms.split('#'),\n",
    "                                             'related_matches':rm_per_label}"
   ]
  },
  {
   "cell_type": "code",
   "execution_count": null,
   "metadata": {},
   "outputs": [],
   "source": [
    "# saving related matches as json\n",
    "with open('rm.json', 'w') as jf:\n",
    "    json.dump(related_matches_dict, jf)"
   ]
  },
  {
   "cell_type": "markdown",
   "metadata": {},
   "source": [
    "### Merging related matches with literals"
   ]
  },
  {
   "cell_type": "markdown",
   "metadata": {},
   "source": [
    "#### Importing literals from the json files\n",
    " the files were generated with lodlitparser.get_literals()"
   ]
  },
  {
   "cell_type": "code",
   "execution_count": 8,
   "metadata": {},
   "outputs": [],
   "source": [
    "# AAT EN\n",
    "path_aat_en = 'https://github.com/cultural-ai/wordsmatter/raw/main/related_matches/aat_rm_en.json'\n",
    "aat_en = requests.get(path_aat_en).json()\n",
    "\n",
    "# AAT NL\n",
    "path_aat_nl = 'https://github.com/cultural-ai/wordsmatter/raw/main/related_matches/aat_rm_nl.json'\n",
    "aat_nl = requests.get(path_aat_nl).json()\n",
    "\n",
    "# Wikidata EN\n",
    "path_wikidata_en = 'https://github.com/cultural-ai/wordsmatter/raw/main/related_matches/wikidata_rm_en.json'\n",
    "wikidata_en = requests.get(path_wikidata_en).json()\n",
    "\n",
    "# Wikidata NL\n",
    "path_wikidata_nl = 'https://github.com/cultural-ai/wordsmatter/raw/main/related_matches/wikidata_rm_nl.json'\n",
    "wikidata_nl = requests.get(path_wikidata_nl).json()\n",
    "\n",
    "# PWN\n",
    "path_pwn = 'https://github.com/cultural-ai/wordsmatter/raw/main/related_matches/pwn_rm.json'\n",
    "pwn_rm = requests.get(path_pwn).json()\n",
    "\n",
    "# ODWN\n",
    "path_odwn = 'https://github.com/cultural-ai/wordsmatter/raw/main/related_matches/odwn_rm.json'\n",
    "odwn_rm = requests.get(path_odwn).json()\n",
    "\n",
    "# NMVW\n",
    "path_nmvw = 'https://github.com/cultural-ai/wordsmatter/raw/main/related_matches/nmvw_rm.json'\n",
    "nmvw_rm = requests.get(path_nmvw).json()"
   ]
  },
  {
   "cell_type": "code",
   "execution_count": 10,
   "metadata": {},
   "outputs": [],
   "source": [
    "# this code updates related_matches_dict\n",
    "for label_uri, values in related_matches_dict.items():\n",
    "    \n",
    "    literals_per_label = {}\n",
    "    \n",
    "    # EN\n",
    "    if values['lang'] == 'en':\n",
    "        # aat\n",
    "        per_resource =[]\n",
    "        if values['related_matches']['aat'][0] != 'None':\n",
    "            aat_uri = values['related_matches']['aat'][0]\n",
    "            aat_en[aat_uri]['aat_uri'] = aat_uri\n",
    "            per_resource.append(aat_en[aat_uri])\n",
    "\n",
    "        literals_per_label['aat_en'] = per_resource\n",
    "        \n",
    "        # wikidata\n",
    "        per_resource =[]\n",
    "        if values['related_matches']['wikidata'][0] != 'None':\n",
    "            wikidata_q = values['related_matches']['wikidata'][0]\n",
    "            for result in wikidata_en:\n",
    "                if wikidata_q in result.keys():\n",
    "                    per_resource.append(result[wikidata_q])\n",
    "\n",
    "        literals_per_label['wikidata_en'] = per_resource\n",
    "        \n",
    "        # PWN\n",
    "        per_resource = []\n",
    "        for synset_id in values['related_matches']['pwn']:\n",
    "            if synset_id != 'None':\n",
    "                pwn_rm[synset_id]['synset_id'] = synset_id\n",
    "                dict_per_hit = pwn_rm[synset_id]\n",
    "                per_resource.append(dict_per_hit)\n",
    "            \n",
    "        literals_per_label['pwn'] = per_resource\n",
    "        \n",
    "    # NL\n",
    "    if values['lang'] == 'nl':\n",
    "        # aat\n",
    "        per_resource = []\n",
    "        if values['related_matches']['aat'][0] != 'None':\n",
    "            aat_uri = values['related_matches']['aat'][0]\n",
    "            aat_nl[aat_uri]['aat_uri'] = aat_uri\n",
    "            per_resource.append(aat_nl[aat_uri])\n",
    "\n",
    "        literals_per_label['aat_nl'] = per_resource\n",
    "        \n",
    "        #odwn\n",
    "        per_resource = []\n",
    "        for le_id in values['related_matches']['odwn']:\n",
    "            if le_id != 'None':\n",
    "                odwn_rm[le_id]['LE_id'] = le_id\n",
    "                dict_per_hit = odwn_rm[le_id]\n",
    "                per_resource.append(dict_per_hit)\n",
    "                \n",
    "        literals_per_label['odwn'] = per_resource\n",
    "        \n",
    "        #nmvw\n",
    "        per_resource = []\n",
    "        if values['related_matches']['nmvw'][0] != 'None':\n",
    "            nmvw_handle = f\"https://hdl.handle.net/20.500.11840/termmaster{values['related_matches']['nmvw'][0]}\"\n",
    "            nmvw_rm[nmvw_handle]['nmvw_handle'] = nmvw_handle\n",
    "            per_resource.append(nmvw_rm[nmvw_handle])\n",
    "        \n",
    "        literals_per_label['nmvw'] = per_resource\n",
    "        \n",
    "    values['related_matches_literals'] = literals_per_label"
   ]
  },
  {
   "cell_type": "code",
   "execution_count": 11,
   "metadata": {},
   "outputs": [],
   "source": [
    "# saving the json file with literals of related matches\n",
    "with open('rm_literals.json', 'w') as jf:\n",
    "    json.dump(related_matches_dict, jf)"
   ]
  },
  {
   "cell_type": "code",
   "execution_count": null,
   "metadata": {},
   "outputs": [],
   "source": []
  }
 ],
 "metadata": {
  "kernelspec": {
   "display_name": "Python 3",
   "language": "python",
   "name": "python3"
  },
  "language_info": {
   "codemirror_mode": {
    "name": "ipython",
    "version": 3
   },
   "file_extension": ".py",
   "mimetype": "text/x-python",
   "name": "python",
   "nbconvert_exporter": "python",
   "pygments_lexer": "ipython3",
   "version": "3.8.5"
  }
 },
 "nbformat": 4,
 "nbformat_minor": 4
}
