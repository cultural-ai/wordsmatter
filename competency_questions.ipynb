{
 "cells": [
  {
   "cell_type": "markdown",
   "metadata": {},
   "source": [
    "### Competency questions"
   ]
  },
  {
   "cell_type": "code",
   "execution_count": 1,
   "metadata": {},
   "outputs": [],
   "source": [
    "import rdflib\n",
    "from rdflib import Graph\n",
    "from rdflib.namespace import Namespace\n",
    "from rdflib.namespace import SKOS, RDF"
   ]
  },
  {
   "cell_type": "code",
   "execution_count": 2,
   "metadata": {},
   "outputs": [],
   "source": [
    "culco = Namespace(\"http://example.nl/ontology#\")\n",
    "skosxl = Namespace(\"http://www.w3.org/2008/05/skos-xl#\")\n",
    "dcterms = Namespace(\"http://purl.org/dc/terms/\")"
   ]
  },
  {
   "cell_type": "code",
   "execution_count": 3,
   "metadata": {},
   "outputs": [],
   "source": [
    "wm = Graph()"
   ]
  },
  {
   "cell_type": "code",
   "execution_count": 4,
   "metadata": {},
   "outputs": [
    {
     "data": {
      "text/plain": [
       "<Graph identifier=N87cc8f7735c84b0bac6913bdb0cc6fad (<class 'rdflib.graph.Graph'>)>"
      ]
     },
     "execution_count": 4,
     "metadata": {},
     "output_type": "execute_result"
    }
   ],
   "source": [
    "wm.parse(\"https://raw.githubusercontent.com/cultural-ai/wordsmatter/main/glossary.ttl\", format=\"turtle\")"
   ]
  },
  {
   "cell_type": "code",
   "execution_count": 5,
   "metadata": {},
   "outputs": [
    {
     "data": {
      "text/plain": [
       "2492"
      ]
     },
     "execution_count": 5,
     "metadata": {},
     "output_type": "execute_result"
    }
   ],
   "source": [
    "len(wm)"
   ]
  },
  {
   "cell_type": "markdown",
   "metadata": {},
   "source": [
    "#### 1. Which entries have references to other entries?"
   ]
  },
  {
   "cell_type": "code",
   "execution_count": 7,
   "metadata": {},
   "outputs": [
    {
     "name": "stdout",
     "output_type": "stream",
     "text": [
      "Zwart(149_nl): ['133_nl']\n",
      "Descent(101): ['91', '136']\n",
      "Halfbloed(110_nl): ['140_nl']\n",
      "Headhunter(111): ['132']\n",
      "Wit(147_nl): ['100_nl']\n",
      "Gay(108_nl): ['113_nl']\n",
      "Negro(129): ['135', '98']\n",
      "Aboriginal(94_nl): ['116_nl', '105_nl']\n",
      "Blank(95): ['144']\n",
      "Mulatto(127): ['110']\n",
      "Race(135): ['98', '129']\n",
      "Mongool(130_nl): ['124_nl', '133_nl']\n",
      "Indisch(117_nl): ['118_nl']\n",
      "Blank(100_nl): ['149_nl', '147_nl', '109_nl']\n",
      "Bosneger(102_nl): ['133_nl', '127_nl']\n",
      "Berber(99_nl): ['97_nl']\n",
      "Bush Negro(97): ['122', '129']\n",
      "Indisch(118): ['119']\n",
      "Half-blood(110): ['135']\n",
      "Mulat(132_nl): ['110_nl']\n",
      "Ras(140_nl): ['124_nl', '133_nl']\n",
      "Aboriginal(90): ['105', '116']\n",
      "Berber(93): ['92']\n",
      "Westers(146_nl): ['103_nl']\n",
      "Neger(133_nl): ['140_nl', '124_nl']\n",
      "Western(143): ['139']\n",
      "Koppensneller(126_nl): ['137_nl']\n",
      "Etniciteit(106_nl): ['140_nl']\n",
      "White(144): ['95']\n",
      "Black(94): ['129']\n"
     ]
    }
   ],
   "source": [
    "q_1 = wm.query(\n",
    "    \"\"\"SELECT ?CI ?cont_issue (GROUP_CONCAT(?CI_2;SEPARATOR=\",\") AS ?CI_2_list)\n",
    "        \n",
    "        {\n",
    "            ?CI dcterms:references ?CI_2 .\n",
    "            ?CI dcterms:title ?cont_issue .\n",
    "        }\n",
    "         GROUP BY ?CI\n",
    "         \"\"\")\n",
    "\n",
    "for row in q_1:\n",
    "    print(f\"{row.cont_issue}({row.CI.split('#')[-1]}): {[e.split('#')[-1] for e in row.CI_2_list.split(',')]}\")"
   ]
  },
  {
   "cell_type": "markdown",
   "metadata": {},
   "source": [
    "### 2. How do entries in English and Dutch glossaries correspond to each other?"
   ]
  },
  {
   "cell_type": "code",
   "execution_count": 9,
   "metadata": {},
   "outputs": [],
   "source": [
    "q_2 = wm.query(\n",
    "    \"\"\"SELECT ?CI_en ?CI_nl\n",
    "    WHERE {\n",
    "    ?CI_nl skos:exactMatch ?CI_en \n",
    "    }\n",
    "          \n",
    "       \"\"\")"
   ]
  },
  {
   "cell_type": "code",
   "execution_count": 10,
   "metadata": {},
   "outputs": [
    {
     "data": {
      "text/plain": [
       "[{rdflib.term.Variable('CI_nl'): rdflib.term.URIRef('https://w3id.org/culco/wordsmatter#142_nl')},\n",
       " {rdflib.term.Variable('CI_nl'): rdflib.term.URIRef('https://w3id.org/culco/wordsmatter#115_nl')},\n",
       " {rdflib.term.Variable('CI_nl'): rdflib.term.URIRef('https://w3id.org/culco/wordsmatter#99_nl')},\n",
       " {rdflib.term.Variable('CI_nl'): rdflib.term.URIRef('https://w3id.org/culco/wordsmatter#116_nl')},\n",
       " {rdflib.term.Variable('CI_nl'): rdflib.term.URIRef('https://w3id.org/culco/wordsmatter#111_nl')},\n",
       " {rdflib.term.Variable('CI_nl'): rdflib.term.URIRef('https://w3id.org/culco/wordsmatter#131_nl')},\n",
       " {rdflib.term.Variable('CI_nl'): rdflib.term.URIRef('https://w3id.org/culco/wordsmatter#108_nl')},\n",
       " {rdflib.term.Variable('CI_nl'): rdflib.term.URIRef('https://w3id.org/culco/wordsmatter#114_nl')},\n",
       " {rdflib.term.Variable('CI_nl'): rdflib.term.URIRef('https://w3id.org/culco/wordsmatter#103_nl')},\n",
       " {rdflib.term.Variable('CI_nl'): rdflib.term.URIRef('https://w3id.org/culco/wordsmatter#133_nl')},\n",
       " {rdflib.term.Variable('CI_nl'): rdflib.term.URIRef('https://w3id.org/culco/wordsmatter#128_nl')},\n",
       " {rdflib.term.Variable('CI_nl'): rdflib.term.URIRef('https://w3id.org/culco/wordsmatter#143_nl')},\n",
       " {rdflib.term.Variable('CI_nl'): rdflib.term.URIRef('https://w3id.org/culco/wordsmatter#101_nl')},\n",
       " {rdflib.term.Variable('CI_nl'): rdflib.term.URIRef('https://w3id.org/culco/wordsmatter#112_nl')},\n",
       " {rdflib.term.Variable('CI_nl'): rdflib.term.URIRef('https://w3id.org/culco/wordsmatter#102_nl')},\n",
       " {rdflib.term.Variable('CI_nl'): rdflib.term.URIRef('https://w3id.org/culco/wordsmatter#140_nl')},\n",
       " {rdflib.term.Variable('CI_nl'): rdflib.term.URIRef('https://w3id.org/culco/wordsmatter#106_nl')},\n",
       " {rdflib.term.Variable('CI_nl'): rdflib.term.URIRef('https://w3id.org/culco/wordsmatter#126_nl')},\n",
       " {rdflib.term.Variable('CI_nl'): rdflib.term.URIRef('https://w3id.org/culco/wordsmatter#98_nl')},\n",
       " {rdflib.term.Variable('CI_nl'): rdflib.term.URIRef('https://w3id.org/culco/wordsmatter#104_nl')},\n",
       " {rdflib.term.Variable('CI_nl'): rdflib.term.URIRef('https://w3id.org/culco/wordsmatter#97_nl')},\n",
       " {rdflib.term.Variable('CI_nl'): rdflib.term.URIRef('https://w3id.org/culco/wordsmatter#124_nl')},\n",
       " {rdflib.term.Variable('CI_nl'): rdflib.term.URIRef('https://w3id.org/culco/wordsmatter#137_nl')},\n",
       " {rdflib.term.Variable('CI_nl'): rdflib.term.URIRef('https://w3id.org/culco/wordsmatter#138_nl')},\n",
       " {rdflib.term.Variable('CI_nl'): rdflib.term.URIRef('https://w3id.org/culco/wordsmatter#118_nl')},\n",
       " {rdflib.term.Variable('CI_nl'): rdflib.term.URIRef('https://w3id.org/culco/wordsmatter#139_nl')},\n",
       " {rdflib.term.Variable('CI_nl'): rdflib.term.URIRef('https://w3id.org/culco/wordsmatter#122_nl')},\n",
       " {rdflib.term.Variable('CI_nl'): rdflib.term.URIRef('https://w3id.org/culco/wordsmatter#144_nl')},\n",
       " {rdflib.term.Variable('CI_nl'): rdflib.term.URIRef('https://w3id.org/culco/wordsmatter#149_nl')},\n",
       " {rdflib.term.Variable('CI_nl'): rdflib.term.URIRef('https://w3id.org/culco/wordsmatter#132_nl')},\n",
       " {rdflib.term.Variable('CI_nl'): rdflib.term.URIRef('https://w3id.org/culco/wordsmatter#146_nl')},\n",
       " {rdflib.term.Variable('CI_nl'): rdflib.term.URIRef('https://w3id.org/culco/wordsmatter#148_nl')},\n",
       " {rdflib.term.Variable('CI_nl'): rdflib.term.URIRef('https://w3id.org/culco/wordsmatter#130_nl')},\n",
       " {rdflib.term.Variable('CI_nl'): rdflib.term.URIRef('https://w3id.org/culco/wordsmatter#147_nl')},\n",
       " {rdflib.term.Variable('CI_nl'): rdflib.term.URIRef('https://w3id.org/culco/wordsmatter#110_nl')},\n",
       " {rdflib.term.Variable('CI_nl'): rdflib.term.URIRef('https://w3id.org/culco/wordsmatter#95_nl')},\n",
       " {rdflib.term.Variable('CI_nl'): rdflib.term.URIRef('https://w3id.org/culco/wordsmatter#94_nl')},\n",
       " {rdflib.term.Variable('CI_nl'): rdflib.term.URIRef('https://w3id.org/culco/wordsmatter#134_nl')},\n",
       " {rdflib.term.Variable('CI_nl'): rdflib.term.URIRef('https://w3id.org/culco/wordsmatter#145_nl')},\n",
       " {rdflib.term.Variable('CI_nl'): rdflib.term.URIRef('https://w3id.org/culco/wordsmatter#107_nl')},\n",
       " {rdflib.term.Variable('CI_nl'): rdflib.term.URIRef('https://w3id.org/culco/wordsmatter#125_nl')},\n",
       " {rdflib.term.Variable('CI_nl'): rdflib.term.URIRef('https://w3id.org/culco/wordsmatter#113_nl')},\n",
       " {rdflib.term.Variable('CI_nl'): rdflib.term.URIRef('https://w3id.org/culco/wordsmatter#109_nl')},\n",
       " {rdflib.term.Variable('CI_nl'): rdflib.term.URIRef('https://w3id.org/culco/wordsmatter#127_nl')},\n",
       " {rdflib.term.Variable('CI_nl'): rdflib.term.URIRef('https://w3id.org/culco/wordsmatter#136_nl')},\n",
       " {rdflib.term.Variable('CI_nl'): rdflib.term.URIRef('https://w3id.org/culco/wordsmatter#141_nl')},\n",
       " {rdflib.term.Variable('CI_nl'): rdflib.term.URIRef('https://w3id.org/culco/wordsmatter#129_nl')},\n",
       " {rdflib.term.Variable('CI_nl'): rdflib.term.URIRef('https://w3id.org/culco/wordsmatter#105_nl')},\n",
       " {rdflib.term.Variable('CI_nl'): rdflib.term.URIRef('https://w3id.org/culco/wordsmatter#119_nl')},\n",
       " {rdflib.term.Variable('CI_nl'): rdflib.term.URIRef('https://w3id.org/culco/wordsmatter#123_nl')},\n",
       " {rdflib.term.Variable('CI_nl'): rdflib.term.URIRef('https://w3id.org/culco/wordsmatter#96_nl')},\n",
       " {rdflib.term.Variable('CI_nl'): rdflib.term.URIRef('https://w3id.org/culco/wordsmatter#100_nl')},\n",
       " {rdflib.term.Variable('CI_nl'): rdflib.term.URIRef('https://w3id.org/culco/wordsmatter#117_nl')},\n",
       " {rdflib.term.Variable('CI_nl'): rdflib.term.URIRef('https://w3id.org/culco/wordsmatter#135_nl')}]"
      ]
     },
     "execution_count": 10,
     "metadata": {},
     "output_type": "execute_result"
    }
   ],
   "source": [
    "q_2.bindings"
   ]
  },
  {
   "cell_type": "markdown",
   "metadata": {},
   "source": [
    "#### How many entries are unique in both glossaries?"
   ]
  },
  {
   "cell_type": "code",
   "execution_count": null,
   "metadata": {},
   "outputs": [],
   "source": []
  }
 ],
 "metadata": {
  "kernelspec": {
   "display_name": "Python 3",
   "language": "python",
   "name": "python3"
  },
  "language_info": {
   "codemirror_mode": {
    "name": "ipython",
    "version": 3
   },
   "file_extension": ".py",
   "mimetype": "text/x-python",
   "name": "python",
   "nbconvert_exporter": "python",
   "pygments_lexer": "ipython3",
   "version": "3.8.5"
  }
 },
 "nbformat": 4,
 "nbformat_minor": 4
}
