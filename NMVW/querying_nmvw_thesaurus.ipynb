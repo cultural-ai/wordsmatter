{
 "cells": [
  {
   "cell_type": "code",
   "execution_count": null,
   "metadata": {},
   "outputs": [],
   "source": [
    "import rdflib\n",
    "from rdflib import Graph\n",
    "from rdflib.namespace import Namespace\n",
    "from rdflib.namespace import SKOS, RDF\n",
    "import re\n",
    "import json\n",
    "import csv"
   ]
  },
  {
   "cell_type": "markdown",
   "metadata": {},
   "source": [
    "### Querying NMVW / Saving the query results in json"
   ]
  },
  {
   "cell_type": "code",
   "execution_count": null,
   "metadata": {},
   "outputs": [],
   "source": [
    "# creating an empty graph\n",
    "nmvw = Graph()"
   ]
  },
  {
   "cell_type": "code",
   "execution_count": null,
   "metadata": {},
   "outputs": [],
   "source": [
    "# dict to store query results\n",
    "nmvw_json = {}"
   ]
  },
  {
   "cell_type": "code",
   "execution_count": null,
   "metadata": {},
   "outputs": [],
   "source": [
    "# populating the graph with triples from files\n",
    "for number in range(1,45):\n",
    "    # path to a directory with the thesaurus files (44 files)\n",
    "    filename = '/nmvw_rdf/ThesRDFXML_' + str(number) + '.rdf'\n",
    "    nmvw.parse(filename, format=\"xml\")"
   ]
  },
  {
   "cell_type": "code",
   "execution_count": null,
   "metadata": {},
   "outputs": [],
   "source": [
    "query = \"\"\"        \n",
    "        SELECT ?concept ?prefLabel (GROUP_CONCAT(?note;SEPARATOR=\"#\") AS ?notes) (GROUP_CONCAT(?altLabel;SEPARATOR=\"#\") AS ?altLabels) ?exactMatch ?scheme\n",
    "        \n",
    "        WHERE {\n",
    "        \n",
    "        ?concept rdf:type skos:Concept ;\n",
    "                 skos:prefLabel ?prefLabel ;\n",
    "                 skos:inScheme ?scheme .\n",
    "                 \n",
    "        OPTIONAL {?concept skos:exactMatch ?exactMatch}\n",
    "        OPTIONAL {?concept skos:altLabel ?altLabel}\n",
    "        OPTIONAL {?concept skos:note ?note}\n",
    "        \n",
    "        }\n",
    "        GROUP BY ?concept\n",
    "        \"\"\""
   ]
  },
  {
   "cell_type": "code",
   "execution_count": null,
   "metadata": {},
   "outputs": [],
   "source": [
    "query_results = nmvw.query(query,initNs={'skos': SKOS, 'rdf': RDF})"
   ]
  },
  {
   "cell_type": "code",
   "execution_count": null,
   "metadata": {},
   "outputs": [],
   "source": [
    "# shaping json\n",
    "for result in query_results.bindings:\n",
    "    altLabels = []\n",
    "    if str(result.get('altLabels')) != '':\n",
    "        # converting to a set to remove dublicates\n",
    "        altLabels = list(set(result.get('altLabels').split('#')))\n",
    "        \n",
    "    notes = list(set(result.get('notes').split('#')))\n",
    "    \n",
    "    nmvw_json[str(result['concept'])] = {'prefLabel':str(result['prefLabel']),\\\n",
    "                                        'altLabel':altLabels,\\\n",
    "                                        'notes':notes,\\\n",
    "                                        'exactMatch':str(result.get('exactMatch')),\\\n",
    "                                        'scheme':str(result['scheme'])}"
   ]
  },
  {
   "cell_type": "code",
   "execution_count": null,
   "metadata": {},
   "outputs": [],
   "source": [
    "len(nmvw_json)"
   ]
  },
  {
   "cell_type": "code",
   "execution_count": null,
   "metadata": {},
   "outputs": [],
   "source": [
    "# saving NMVW in json\n",
    "with open('nmvw_thesaurus.json', 'w') as jf:\n",
    "    json.dump(nmvw_json, jf)"
   ]
  },
  {
   "cell_type": "markdown",
   "metadata": {},
   "source": [
    "### Finding contentious terms in NMVW"
   ]
  },
  {
   "cell_type": "code",
   "execution_count": null,
   "metadata": {},
   "outputs": [],
   "source": [
    "# importing the contentious terms (NL)\n",
    "\n",
    "with open('query_terms_cont_nl.json','r') as jf:\n",
    "    query_terms_cont_nl = json.load(jf)"
   ]
  },
  {
   "cell_type": "code",
   "execution_count": null,
   "metadata": {},
   "outputs": [],
   "source": [
    "with open('cont_terms_in_NMVW.csv','w') as csv_file:\n",
    "    writer = csv.writer(csv_file)\n",
    "    header = ['lemma','query_term','nmvw_URI','prefLabel','altLabel','notes','exactMatch','scheme','found_in']\n",
    "    writer.writerow(header)\n",
    "    \n",
    "    for lemma, wordforms in query_terms_cont_nl.items():\n",
    "        list_of_query_terms = []\n",
    "        list_of_query_terms.append(lemma)\n",
    "        list_of_query_terms.extend(wordforms)\n",
    "\n",
    "        for query_term in list_of_query_terms:\n",
    "\n",
    "            for handle, values in nmvw_json.items():\n",
    "\n",
    "                found_in = ''\n",
    "                \n",
    "                # searching in prefLabel\n",
    "                if re.search(f\"\\\\b{query_term}\\\\b\",values['prefLabel'],re.IGNORECASE) != None:\n",
    "                    found_in = 'prefLabel'\n",
    "\n",
    "                if found_in == 'prefLabel':\n",
    "                    data = [lemma,query_term,handle,values['prefLabel'],values['altLabel'],values['notes'],values['exactMatch'], values['scheme'],found_in]\n",
    "                    writer.writerow(data)\n",
    "                    \n",
    "                # searching in altLabel\n",
    "                for label in values['altLabel']:\n",
    "                    if re.search(f\"\\\\b{query_term}\\\\b\",label,re.IGNORECASE) != None:\n",
    "                        found_in = 'altLabel'\n",
    "\n",
    "                if found_in == 'altLabel':\n",
    "                    data = [lemma,query_term,handle,values['prefLabel'],values['altLabel'],values['notes'],values['exactMatch'], values['scheme'],found_in]\n",
    "                    writer.writerow(data)"
   ]
  }
 ],
 "metadata": {
  "kernelspec": {
   "display_name": "Python 3",
   "language": "python",
   "name": "python3"
  },
  "language_info": {
   "codemirror_mode": {
    "name": "ipython",
    "version": 3
   },
   "file_extension": ".py",
   "mimetype": "text/x-python",
   "name": "python",
   "nbconvert_exporter": "python",
   "pygments_lexer": "ipython3",
   "version": "3.8.5"
  }
 },
 "nbformat": 4,
 "nbformat_minor": 4
}
